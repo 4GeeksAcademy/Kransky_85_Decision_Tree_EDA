{
    "cells": [
        {
            "cell_type": "markdown",
            "metadata": {},
            "source": [
                "# Explore here"
            ]
        },
        {
            "cell_type": "code",
            "execution_count": 2,
            "metadata": {},
            "outputs": [
                {
                    "data": {
                        "text/html": [
                            "<div>\n",
                            "<style scoped>\n",
                            "    .dataframe tbody tr th:only-of-type {\n",
                            "        vertical-align: middle;\n",
                            "    }\n",
                            "\n",
                            "    .dataframe tbody tr th {\n",
                            "        vertical-align: top;\n",
                            "    }\n",
                            "\n",
                            "    .dataframe thead th {\n",
                            "        text-align: right;\n",
                            "    }\n",
                            "</style>\n",
                            "<table border=\"1\" class=\"dataframe\">\n",
                            "  <thead>\n",
                            "    <tr style=\"text-align: right;\">\n",
                            "      <th></th>\n",
                            "      <th>Pregnancies</th>\n",
                            "      <th>Glucose</th>\n",
                            "      <th>BloodPressure</th>\n",
                            "      <th>SkinThickness</th>\n",
                            "      <th>Insulin</th>\n",
                            "      <th>BMI</th>\n",
                            "      <th>DiabetesPedigreeFunction</th>\n",
                            "      <th>Age</th>\n",
                            "      <th>Outcome</th>\n",
                            "    </tr>\n",
                            "  </thead>\n",
                            "  <tbody>\n",
                            "    <tr>\n",
                            "      <th>0</th>\n",
                            "      <td>6</td>\n",
                            "      <td>148</td>\n",
                            "      <td>72</td>\n",
                            "      <td>35</td>\n",
                            "      <td>0</td>\n",
                            "      <td>33.6</td>\n",
                            "      <td>0.627</td>\n",
                            "      <td>50</td>\n",
                            "      <td>1</td>\n",
                            "    </tr>\n",
                            "    <tr>\n",
                            "      <th>1</th>\n",
                            "      <td>1</td>\n",
                            "      <td>85</td>\n",
                            "      <td>66</td>\n",
                            "      <td>29</td>\n",
                            "      <td>0</td>\n",
                            "      <td>26.6</td>\n",
                            "      <td>0.351</td>\n",
                            "      <td>31</td>\n",
                            "      <td>0</td>\n",
                            "    </tr>\n",
                            "    <tr>\n",
                            "      <th>2</th>\n",
                            "      <td>8</td>\n",
                            "      <td>183</td>\n",
                            "      <td>64</td>\n",
                            "      <td>0</td>\n",
                            "      <td>0</td>\n",
                            "      <td>23.3</td>\n",
                            "      <td>0.672</td>\n",
                            "      <td>32</td>\n",
                            "      <td>1</td>\n",
                            "    </tr>\n",
                            "    <tr>\n",
                            "      <th>3</th>\n",
                            "      <td>1</td>\n",
                            "      <td>89</td>\n",
                            "      <td>66</td>\n",
                            "      <td>23</td>\n",
                            "      <td>94</td>\n",
                            "      <td>28.1</td>\n",
                            "      <td>0.167</td>\n",
                            "      <td>21</td>\n",
                            "      <td>0</td>\n",
                            "    </tr>\n",
                            "    <tr>\n",
                            "      <th>4</th>\n",
                            "      <td>0</td>\n",
                            "      <td>137</td>\n",
                            "      <td>40</td>\n",
                            "      <td>35</td>\n",
                            "      <td>168</td>\n",
                            "      <td>43.1</td>\n",
                            "      <td>2.288</td>\n",
                            "      <td>33</td>\n",
                            "      <td>1</td>\n",
                            "    </tr>\n",
                            "  </tbody>\n",
                            "</table>\n",
                            "</div>"
                        ],
                        "text/plain": [
                            "   Pregnancies  Glucose  BloodPressure  SkinThickness  Insulin   BMI  \\\n",
                            "0            6      148             72             35        0  33.6   \n",
                            "1            1       85             66             29        0  26.6   \n",
                            "2            8      183             64              0        0  23.3   \n",
                            "3            1       89             66             23       94  28.1   \n",
                            "4            0      137             40             35      168  43.1   \n",
                            "\n",
                            "   DiabetesPedigreeFunction  Age  Outcome  \n",
                            "0                     0.627   50        1  \n",
                            "1                     0.351   31        0  \n",
                            "2                     0.672   32        1  \n",
                            "3                     0.167   21        0  \n",
                            "4                     2.288   33        1  "
                        ]
                    },
                    "execution_count": 2,
                    "metadata": {},
                    "output_type": "execute_result"
                }
            ],
            "source": [
                "import pandas as pd\n",
                "\n",
                "total_data = pd.read_csv(\"https://raw.githubusercontent.com/4GeeksAcademy/decision-tree-project-tutorial/main/diabetes.csv\")\n",
                "total_data.head()"
            ]
        },
        {
            "cell_type": "code",
            "execution_count": 4,
            "metadata": {},
            "outputs": [],
            "source": [
                "df = total_data"
            ]
        },
        {
            "cell_type": "code",
            "execution_count": 5,
            "metadata": {},
            "outputs": [
                {
                    "name": "stdout",
                    "output_type": "stream",
                    "text": [
                        "<class 'pandas.core.frame.DataFrame'>\n",
                        "RangeIndex: 768 entries, 0 to 767\n",
                        "Data columns (total 9 columns):\n",
                        " #   Column                    Non-Null Count  Dtype  \n",
                        "---  ------                    --------------  -----  \n",
                        " 0   Pregnancies               768 non-null    int64  \n",
                        " 1   Glucose                   768 non-null    int64  \n",
                        " 2   BloodPressure             768 non-null    int64  \n",
                        " 3   SkinThickness             768 non-null    int64  \n",
                        " 4   Insulin                   768 non-null    int64  \n",
                        " 5   BMI                       768 non-null    float64\n",
                        " 6   DiabetesPedigreeFunction  768 non-null    float64\n",
                        " 7   Age                       768 non-null    int64  \n",
                        " 8   Outcome                   768 non-null    int64  \n",
                        "dtypes: float64(2), int64(7)\n",
                        "memory usage: 54.1 KB\n"
                    ]
                }
            ],
            "source": [
                "df.info()"
            ]
        },
        {
            "cell_type": "code",
            "execution_count": 7,
            "metadata": {},
            "outputs": [
                {
                    "data": {
                        "text/plain": [
                            "(768, 9)"
                        ]
                    },
                    "execution_count": 7,
                    "metadata": {},
                    "output_type": "execute_result"
                }
            ],
            "source": [
                "df.shape"
            ]
        },
        {
            "cell_type": "code",
            "execution_count": 8,
            "metadata": {},
            "outputs": [
                {
                    "data": {
                        "text/plain": [
                            "Pregnancies                  17\n",
                            "Glucose                     136\n",
                            "BloodPressure                47\n",
                            "SkinThickness                51\n",
                            "Insulin                     186\n",
                            "BMI                         248\n",
                            "DiabetesPedigreeFunction    517\n",
                            "Age                          52\n",
                            "Outcome                       2\n",
                            "dtype: int64"
                        ]
                    },
                    "execution_count": 8,
                    "metadata": {},
                    "output_type": "execute_result"
                }
            ],
            "source": [
                "df.nunique()"
            ]
        },
        {
            "cell_type": "code",
            "execution_count": 9,
            "metadata": {},
            "outputs": [
                {
                    "data": {
                        "text/html": [
                            "<div>\n",
                            "<style scoped>\n",
                            "    .dataframe tbody tr th:only-of-type {\n",
                            "        vertical-align: middle;\n",
                            "    }\n",
                            "\n",
                            "    .dataframe tbody tr th {\n",
                            "        vertical-align: top;\n",
                            "    }\n",
                            "\n",
                            "    .dataframe thead th {\n",
                            "        text-align: right;\n",
                            "    }\n",
                            "</style>\n",
                            "<table border=\"1\" class=\"dataframe\">\n",
                            "  <thead>\n",
                            "    <tr style=\"text-align: right;\">\n",
                            "      <th></th>\n",
                            "      <th>Pregnancies</th>\n",
                            "      <th>Glucose</th>\n",
                            "      <th>BloodPressure</th>\n",
                            "      <th>SkinThickness</th>\n",
                            "      <th>Insulin</th>\n",
                            "      <th>BMI</th>\n",
                            "      <th>DiabetesPedigreeFunction</th>\n",
                            "      <th>Age</th>\n",
                            "      <th>Outcome</th>\n",
                            "    </tr>\n",
                            "  </thead>\n",
                            "  <tbody>\n",
                            "    <tr>\n",
                            "      <th>0</th>\n",
                            "      <td>False</td>\n",
                            "      <td>False</td>\n",
                            "      <td>False</td>\n",
                            "      <td>False</td>\n",
                            "      <td>False</td>\n",
                            "      <td>False</td>\n",
                            "      <td>False</td>\n",
                            "      <td>False</td>\n",
                            "      <td>False</td>\n",
                            "    </tr>\n",
                            "    <tr>\n",
                            "      <th>1</th>\n",
                            "      <td>False</td>\n",
                            "      <td>False</td>\n",
                            "      <td>False</td>\n",
                            "      <td>False</td>\n",
                            "      <td>False</td>\n",
                            "      <td>False</td>\n",
                            "      <td>False</td>\n",
                            "      <td>False</td>\n",
                            "      <td>False</td>\n",
                            "    </tr>\n",
                            "    <tr>\n",
                            "      <th>2</th>\n",
                            "      <td>False</td>\n",
                            "      <td>False</td>\n",
                            "      <td>False</td>\n",
                            "      <td>False</td>\n",
                            "      <td>False</td>\n",
                            "      <td>False</td>\n",
                            "      <td>False</td>\n",
                            "      <td>False</td>\n",
                            "      <td>False</td>\n",
                            "    </tr>\n",
                            "    <tr>\n",
                            "      <th>3</th>\n",
                            "      <td>False</td>\n",
                            "      <td>False</td>\n",
                            "      <td>False</td>\n",
                            "      <td>False</td>\n",
                            "      <td>False</td>\n",
                            "      <td>False</td>\n",
                            "      <td>False</td>\n",
                            "      <td>False</td>\n",
                            "      <td>False</td>\n",
                            "    </tr>\n",
                            "    <tr>\n",
                            "      <th>4</th>\n",
                            "      <td>False</td>\n",
                            "      <td>False</td>\n",
                            "      <td>False</td>\n",
                            "      <td>False</td>\n",
                            "      <td>False</td>\n",
                            "      <td>False</td>\n",
                            "      <td>False</td>\n",
                            "      <td>False</td>\n",
                            "      <td>False</td>\n",
                            "    </tr>\n",
                            "    <tr>\n",
                            "      <th>...</th>\n",
                            "      <td>...</td>\n",
                            "      <td>...</td>\n",
                            "      <td>...</td>\n",
                            "      <td>...</td>\n",
                            "      <td>...</td>\n",
                            "      <td>...</td>\n",
                            "      <td>...</td>\n",
                            "      <td>...</td>\n",
                            "      <td>...</td>\n",
                            "    </tr>\n",
                            "    <tr>\n",
                            "      <th>763</th>\n",
                            "      <td>False</td>\n",
                            "      <td>False</td>\n",
                            "      <td>False</td>\n",
                            "      <td>False</td>\n",
                            "      <td>False</td>\n",
                            "      <td>False</td>\n",
                            "      <td>False</td>\n",
                            "      <td>False</td>\n",
                            "      <td>False</td>\n",
                            "    </tr>\n",
                            "    <tr>\n",
                            "      <th>764</th>\n",
                            "      <td>False</td>\n",
                            "      <td>False</td>\n",
                            "      <td>False</td>\n",
                            "      <td>False</td>\n",
                            "      <td>False</td>\n",
                            "      <td>False</td>\n",
                            "      <td>False</td>\n",
                            "      <td>False</td>\n",
                            "      <td>False</td>\n",
                            "    </tr>\n",
                            "    <tr>\n",
                            "      <th>765</th>\n",
                            "      <td>False</td>\n",
                            "      <td>False</td>\n",
                            "      <td>False</td>\n",
                            "      <td>False</td>\n",
                            "      <td>False</td>\n",
                            "      <td>False</td>\n",
                            "      <td>False</td>\n",
                            "      <td>False</td>\n",
                            "      <td>False</td>\n",
                            "    </tr>\n",
                            "    <tr>\n",
                            "      <th>766</th>\n",
                            "      <td>False</td>\n",
                            "      <td>False</td>\n",
                            "      <td>False</td>\n",
                            "      <td>False</td>\n",
                            "      <td>False</td>\n",
                            "      <td>False</td>\n",
                            "      <td>False</td>\n",
                            "      <td>False</td>\n",
                            "      <td>False</td>\n",
                            "    </tr>\n",
                            "    <tr>\n",
                            "      <th>767</th>\n",
                            "      <td>False</td>\n",
                            "      <td>False</td>\n",
                            "      <td>False</td>\n",
                            "      <td>False</td>\n",
                            "      <td>False</td>\n",
                            "      <td>False</td>\n",
                            "      <td>False</td>\n",
                            "      <td>False</td>\n",
                            "      <td>False</td>\n",
                            "    </tr>\n",
                            "  </tbody>\n",
                            "</table>\n",
                            "<p>768 rows × 9 columns</p>\n",
                            "</div>"
                        ],
                        "text/plain": [
                            "     Pregnancies  Glucose  BloodPressure  SkinThickness  Insulin    BMI  \\\n",
                            "0          False    False          False          False    False  False   \n",
                            "1          False    False          False          False    False  False   \n",
                            "2          False    False          False          False    False  False   \n",
                            "3          False    False          False          False    False  False   \n",
                            "4          False    False          False          False    False  False   \n",
                            "..           ...      ...            ...            ...      ...    ...   \n",
                            "763        False    False          False          False    False  False   \n",
                            "764        False    False          False          False    False  False   \n",
                            "765        False    False          False          False    False  False   \n",
                            "766        False    False          False          False    False  False   \n",
                            "767        False    False          False          False    False  False   \n",
                            "\n",
                            "     DiabetesPedigreeFunction    Age  Outcome  \n",
                            "0                       False  False    False  \n",
                            "1                       False  False    False  \n",
                            "2                       False  False    False  \n",
                            "3                       False  False    False  \n",
                            "4                       False  False    False  \n",
                            "..                        ...    ...      ...  \n",
                            "763                     False  False    False  \n",
                            "764                     False  False    False  \n",
                            "765                     False  False    False  \n",
                            "766                     False  False    False  \n",
                            "767                     False  False    False  \n",
                            "\n",
                            "[768 rows x 9 columns]"
                        ]
                    },
                    "execution_count": 9,
                    "metadata": {},
                    "output_type": "execute_result"
                }
            ],
            "source": [
                "df.isnull()"
            ]
        },
        {
            "cell_type": "code",
            "execution_count": 12,
            "metadata": {},
            "outputs": [
                {
                    "data": {
                        "text/plain": [
                            "0      False\n",
                            "1      False\n",
                            "2      False\n",
                            "3      False\n",
                            "4      False\n",
                            "       ...  \n",
                            "763    False\n",
                            "764    False\n",
                            "765    False\n",
                            "766    False\n",
                            "767    False\n",
                            "Length: 768, dtype: bool"
                        ]
                    },
                    "execution_count": 12,
                    "metadata": {},
                    "output_type": "execute_result"
                }
            ],
            "source": [
                "df.duplicated(keep=False)"
            ]
        },
        {
            "cell_type": "code",
            "execution_count": 13,
            "metadata": {},
            "outputs": [
                {
                    "name": "stdout",
                    "output_type": "stream",
                    "text": [
                        "Total missing values for each column:\n",
                        "Pregnancies                 0\n",
                        "Glucose                     0\n",
                        "BloodPressure               0\n",
                        "SkinThickness               0\n",
                        "Insulin                     0\n",
                        "BMI                         0\n",
                        "DiabetesPedigreeFunction    0\n",
                        "Age                         0\n",
                        "Outcome                     0\n",
                        "dtype: int64\n"
                    ]
                }
            ],
            "source": [
                "print(\"Total missing values for each column:\")\n",
                "print(df.isnull().sum(axis=0))"
            ]
        },
        {
            "cell_type": "code",
            "execution_count": 17,
            "metadata": {},
            "outputs": [
                {
                    "data": {
                        "text/plain": [
                            "Pregnancies\n",
                            "1              135\n",
                            "0              111\n",
                            "2              103\n",
                            "3               75\n",
                            "4               68\n",
                            "5               57\n",
                            "6               50\n",
                            "7               45\n",
                            "8               38\n",
                            "9               28\n",
                            "10              24\n",
                            "11              11\n",
                            "13              10\n",
                            "12               9\n",
                            "14               2\n",
                            "15               1\n",
                            "17               1\n",
                            "Name: count, dtype: int64"
                        ]
                    },
                    "execution_count": 17,
                    "metadata": {},
                    "output_type": "execute_result"
                }
            ],
            "source": [
                "df.value_counts(['Pregnancies'])\n"
            ]
        },
        {
            "cell_type": "code",
            "execution_count": 18,
            "metadata": {},
            "outputs": [
                {
                    "data": {
                        "text/plain": [
                            "SkinThickness\n",
                            "0                227\n",
                            "32                31\n",
                            "30                27\n",
                            "27                23\n",
                            "23                22\n",
                            "18                20\n",
                            "28                20\n",
                            "33                20\n",
                            "31                19\n",
                            "19                18\n",
                            "39                18\n",
                            "29                17\n",
                            "40                16\n",
                            "37                16\n",
                            "22                16\n",
                            "25                16\n",
                            "26                16\n",
                            "41                15\n",
                            "35                15\n",
                            "36                14\n",
                            "15                14\n",
                            "17                14\n",
                            "20                13\n",
                            "24                12\n",
                            "13                11\n",
                            "42                11\n",
                            "21                10\n",
                            "46                 8\n",
                            "34                 8\n",
                            "12                 7\n",
                            "38                 7\n",
                            "11                 6\n",
                            "45                 6\n",
                            "16                 6\n",
                            "14                 6\n",
                            "43                 6\n",
                            "44                 5\n",
                            "10                 5\n",
                            "47                 4\n",
                            "48                 4\n",
                            "49                 3\n",
                            "50                 3\n",
                            "54                 2\n",
                            "52                 2\n",
                            "8                  2\n",
                            "7                  2\n",
                            "51                 1\n",
                            "56                 1\n",
                            "60                 1\n",
                            "63                 1\n",
                            "99                 1\n",
                            "Name: count, dtype: int64"
                        ]
                    },
                    "execution_count": 18,
                    "metadata": {},
                    "output_type": "execute_result"
                }
            ],
            "source": [
                "df.value_counts(['SkinThickness'])"
            ]
        },
        {
            "cell_type": "code",
            "execution_count": 19,
            "metadata": {},
            "outputs": [
                {
                    "data": {
                        "text/plain": [
                            "BloodPressure\n",
                            "70               57\n",
                            "74               52\n",
                            "78               45\n",
                            "68               45\n",
                            "72               44\n",
                            "64               43\n",
                            "80               40\n",
                            "76               39\n",
                            "60               37\n",
                            "0                35\n",
                            "62               34\n",
                            "82               30\n",
                            "66               30\n",
                            "88               25\n",
                            "84               23\n",
                            "90               22\n",
                            "58               21\n",
                            "86               21\n",
                            "50               13\n",
                            "56               12\n",
                            "54               11\n",
                            "52               11\n",
                            "92                8\n",
                            "75                8\n",
                            "65                7\n",
                            "85                6\n",
                            "94                6\n",
                            "48                5\n",
                            "96                4\n",
                            "44                4\n",
                            "110               3\n",
                            "106               3\n",
                            "100               3\n",
                            "98                3\n",
                            "108               2\n",
                            "104               2\n",
                            "46                2\n",
                            "55                2\n",
                            "30                2\n",
                            "95                1\n",
                            "61                1\n",
                            "102               1\n",
                            "38                1\n",
                            "40                1\n",
                            "24                1\n",
                            "114               1\n",
                            "122               1\n",
                            "Name: count, dtype: int64"
                        ]
                    },
                    "execution_count": 19,
                    "metadata": {},
                    "output_type": "execute_result"
                }
            ],
            "source": [
                "df.value_counts(['BloodPressure'])"
            ]
        },
        {
            "cell_type": "code",
            "execution_count": 20,
            "metadata": {},
            "outputs": [
                {
                    "data": {
                        "text/plain": [
                            "SkinThickness\n",
                            "0                227\n",
                            "32                31\n",
                            "30                27\n",
                            "27                23\n",
                            "23                22\n",
                            "18                20\n",
                            "28                20\n",
                            "33                20\n",
                            "31                19\n",
                            "19                18\n",
                            "39                18\n",
                            "29                17\n",
                            "40                16\n",
                            "37                16\n",
                            "22                16\n",
                            "25                16\n",
                            "26                16\n",
                            "41                15\n",
                            "35                15\n",
                            "36                14\n",
                            "15                14\n",
                            "17                14\n",
                            "20                13\n",
                            "24                12\n",
                            "13                11\n",
                            "42                11\n",
                            "21                10\n",
                            "46                 8\n",
                            "34                 8\n",
                            "12                 7\n",
                            "38                 7\n",
                            "11                 6\n",
                            "45                 6\n",
                            "16                 6\n",
                            "14                 6\n",
                            "43                 6\n",
                            "44                 5\n",
                            "10                 5\n",
                            "47                 4\n",
                            "48                 4\n",
                            "49                 3\n",
                            "50                 3\n",
                            "54                 2\n",
                            "52                 2\n",
                            "8                  2\n",
                            "7                  2\n",
                            "51                 1\n",
                            "56                 1\n",
                            "60                 1\n",
                            "63                 1\n",
                            "99                 1\n",
                            "Name: count, dtype: int64"
                        ]
                    },
                    "execution_count": 20,
                    "metadata": {},
                    "output_type": "execute_result"
                }
            ],
            "source": [
                "df.value_counts(['SkinThickness'])"
            ]
        },
        {
            "cell_type": "code",
            "execution_count": 21,
            "metadata": {},
            "outputs": [
                {
                    "data": {
                        "text/plain": [
                            "Insulin\n",
                            "0          374\n",
                            "105         11\n",
                            "140          9\n",
                            "130          9\n",
                            "120          8\n",
                            "          ... \n",
                            "193          1\n",
                            "191          1\n",
                            "188          1\n",
                            "184          1\n",
                            "846          1\n",
                            "Name: count, Length: 186, dtype: int64"
                        ]
                    },
                    "execution_count": 21,
                    "metadata": {},
                    "output_type": "execute_result"
                }
            ],
            "source": [
                "df.value_counts(['Insulin'])"
            ]
        },
        {
            "cell_type": "code",
            "execution_count": 22,
            "metadata": {},
            "outputs": [
                {
                    "data": {
                        "text/plain": [
                            "BMI \n",
                            "32.0    13\n",
                            "31.6    12\n",
                            "31.2    12\n",
                            "0.0     11\n",
                            "32.4    10\n",
                            "        ..\n",
                            "31.1     1\n",
                            "39.7     1\n",
                            "39.6     1\n",
                            "31.3     1\n",
                            "67.1     1\n",
                            "Name: count, Length: 248, dtype: int64"
                        ]
                    },
                    "execution_count": 22,
                    "metadata": {},
                    "output_type": "execute_result"
                }
            ],
            "source": [
                "df.value_counts(['BMI'])"
            ]
        },
        {
            "cell_type": "code",
            "execution_count": 23,
            "metadata": {},
            "outputs": [
                {
                    "data": {
                        "text/plain": [
                            "DiabetesPedigreeFunction\n",
                            "0.258                       6\n",
                            "0.254                       6\n",
                            "0.261                       5\n",
                            "0.238                       5\n",
                            "0.259                       5\n",
                            "                           ..\n",
                            "0.420                       1\n",
                            "0.419                       1\n",
                            "0.417                       1\n",
                            "0.416                       1\n",
                            "2.420                       1\n",
                            "Name: count, Length: 517, dtype: int64"
                        ]
                    },
                    "execution_count": 23,
                    "metadata": {},
                    "output_type": "execute_result"
                }
            ],
            "source": [
                "df.value_counts(['DiabetesPedigreeFunction'])"
            ]
        },
        {
            "cell_type": "code",
            "execution_count": 24,
            "metadata": {},
            "outputs": [
                {
                    "data": {
                        "text/plain": [
                            "Age\n",
                            "22     72\n",
                            "21     63\n",
                            "25     48\n",
                            "24     46\n",
                            "23     38\n",
                            "28     35\n",
                            "26     33\n",
                            "27     32\n",
                            "29     29\n",
                            "31     24\n",
                            "41     22\n",
                            "30     21\n",
                            "37     19\n",
                            "42     18\n",
                            "33     17\n",
                            "38     16\n",
                            "36     16\n",
                            "32     16\n",
                            "45     15\n",
                            "34     14\n",
                            "40     13\n",
                            "43     13\n",
                            "46     13\n",
                            "39     12\n",
                            "35     10\n",
                            "52      8\n",
                            "44      8\n",
                            "50      8\n",
                            "51      8\n",
                            "58      7\n",
                            "54      6\n",
                            "47      6\n",
                            "53      5\n",
                            "60      5\n",
                            "49      5\n",
                            "57      5\n",
                            "48      5\n",
                            "66      4\n",
                            "62      4\n",
                            "63      4\n",
                            "55      4\n",
                            "59      3\n",
                            "56      3\n",
                            "65      3\n",
                            "67      3\n",
                            "61      2\n",
                            "69      2\n",
                            "64      1\n",
                            "68      1\n",
                            "70      1\n",
                            "72      1\n",
                            "81      1\n",
                            "Name: count, dtype: int64"
                        ]
                    },
                    "execution_count": 24,
                    "metadata": {},
                    "output_type": "execute_result"
                }
            ],
            "source": [
                "df.value_counts(['Age'])"
            ]
        },
        {
            "cell_type": "code",
            "execution_count": 25,
            "metadata": {},
            "outputs": [
                {
                    "data": {
                        "text/plain": [
                            "Outcome\n",
                            "0          500\n",
                            "1          268\n",
                            "Name: count, dtype: int64"
                        ]
                    },
                    "execution_count": 25,
                    "metadata": {},
                    "output_type": "execute_result"
                }
            ],
            "source": [
                "df.value_counts(['Outcome'])"
            ]
        },
        {
            "cell_type": "code",
            "execution_count": null,
            "metadata": {},
            "outputs": [],
            "source": [
                "'''Pregnancies\t   Glucose\t   BloodPressure\tSkinThickness\tInsulin\t  BMI\tDiabetesPedigreeFunction\tAge \tOutcome'''"
            ]
        },
        {
            "cell_type": "code",
            "execution_count": null,
            "metadata": {},
            "outputs": [],
            "source": []
        },
        {
            "cell_type": "code",
            "execution_count": null,
            "metadata": {},
            "outputs": [],
            "source": [
                "# our 'y' is 'outcome'"
            ]
        },
        {
            "cell_type": "markdown",
            "metadata": {},
            "source": [
                "Step 2: Perform a full EDA\n",
                "This second step is vital to ensure that we keep the variables that are strictly necessary and eliminate those that are not relevant or do not provide information. Use the example Notebook we worked on and adapt it to this use case.\n",
                "\n",
                "Be sure to conveniently divide the data set into train and test as we have seen in previous lessons.\n",
                "\n",
                "Step 3: Build a regression model\n",
                "Start solving the problem by implementing a decision tree and analyze which of the two types satisfies your needs. Train it and analyze its results. Try modifying the function for calculating the purity of the nodes and use all the available ones. Describe them and analyze your results by graphing them.\n",
                "\n",
                "Step 4: Optimize the previous model\n",
                "After training the tree with the different purity functions, it selects the best of them and optimizes its hyperparameters using a grid search.\n",
                "\n",
                "Step 5: Save the model\n",
                "Store the model in the corresponding folder."
            ]
        }
    ],
    "metadata": {
        "kernelspec": {
            "display_name": "Python 3.8.13 64-bit ('3.8.13')",
            "language": "python",
            "name": "python3"
        },
        "language_info": {
            "codemirror_mode": {
                "name": "ipython",
                "version": 3
            },
            "file_extension": ".py",
            "mimetype": "text/x-python",
            "name": "python",
            "nbconvert_exporter": "python",
            "pygments_lexer": "ipython3",
            "version": "3.10.12"
        },
        "orig_nbformat": 4,
        "vscode": {
            "interpreter": {
                "hash": "110cc1dee26208153f2972f08a2ad52b6a56238dc66d48e87fb757ef2996db56"
            }
        }
    },
    "nbformat": 4,
    "nbformat_minor": 2
}
